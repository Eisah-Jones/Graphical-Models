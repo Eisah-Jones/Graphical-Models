{
 "cells": [
  {
   "cell_type": "code",
   "execution_count": 1,
   "metadata": {},
   "outputs": [],
   "source": [
    "import pyGM as gm\n",
    "import numpy as np\n",
    "import pyGM.messagepass"
   ]
  },
  {
   "cell_type": "markdown",
   "metadata": {},
   "source": [
    "# Basic Error Probabilities\n",
    "\n",
    "In the first section we will be discussing and analyzing repetition and Hamming error codes. For more information, check here: en.wikipedia.org/wiki/Hamming(7,4)\n",
    "\n",
    "## Compute the probability that, with no encoding at all, we will make at least one mistake in sending a block of four bits.\n",
    "\n",
    "The probability of having an error on one bit is p = 0.1\n",
    "\n",
    "To find the probability that we will make AT LEAST one mistake for one bit, we can calculate the probability:\n",
    "\n",
    "    pb(errors >= 1) = 1 - p(no errors)\n",
    "\n",
    "Because the bit reading probability is independent and uniform, we can take the probability of a bit being read correctly and raise it to the power of the number of bits: \n",
    "\n",
    "    p(errors >= 1) = 1 - p(no errors)^(num bits) = 1 - 0.9^4 = 0.3439\n",
    "\n",
    "### The probability that at least one bit is incorrectly read in each 4 bit block is 0.3439\n",
    "\n",
    "\n",
    "## Now compute the probability that, with a rate 1/3 repetition code, we will make at least one error in the block of four bits.\n",
    "\n",
    "With a repetition rate 1/3 repetition code a bit is encoded from 0 --> 000, 01 --> 010101\n",
    "\n",
    "To find the probability that we will make AT LEAST one mistake, we can calculate 1 - p(no error) + p(1st wrong) + p(2nd wrong) + p(3rd wrong)\n",
    "\n",
    "For any one bit here are the probabilities:\n",
    "\n",
    "    pb(no errors) = 0.9^3 = 0.729 \n",
    "    pb(1st wrong) = pb(2nd wrong) = pb(3rd wrong) = 0.1 * 0.9^2 * 3 = 0.243\n",
    "    \n",
    "The probability of having one wrong bit is the same regardless of the bit position.\n",
    "\n",
    "We can use the above values to calculate the probability of no errors for one repetition of each bit:\n",
    "\n",
    "    p(no errors) = (pb(no errors)+pb(1st wrong))^4 = 0.972\n",
    "    \n",
    "With this final value we can calculate the probability of at least one error in a four bit encoded block:\n",
    "\n",
    "    p(errors >= 1) = 1 - p(no errors)^4 = 1 - 0.972^4 = 0.1074\n",
    "\n",
    "### The probability that at least one bit is incorrectly read in each 4 bit encoded block is 0.1074\n",
    "\n",
    "\n",
    "## Now compute the probability that, with a Hamming(7,4) code, we will make at least one error in the four bits. \n",
    "\n",
    "With a Hamming(7,4) code a bit is encoded from 0000 --> 0000000 , 0101 --> 0100101\n",
    "\n",
    "To find the probability that we will make AT LEAST one mistake for one bit, we can calculate 1 - p(no errors) + p(1st wrong) + ... + p(7th wrong)\n",
    "\n",
    "    p(no errors) = 0.9^7 = 0.4783\n",
    "    pb(1st wrong) = p(2nd wrong) = ... = p(7th wrong) = 0.1 * 0.9^6 = 0.0531\n",
    "    \n",
    "From this we can calculate the probability that there is no errors in the whole block:\n",
    "    \n",
    "    p(no errors) = p(1st wrong)*7 + p(no errors) = 0.0531*7 + 0.4783 = 0.85\n",
    "    \n",
    "With this final value we can calculate the probability of at least one error in a 4 bit encoded block:\n",
    "\n",
    "    p(errors >= 1) = 1 - p(no errors) = 1 - 0.85 = 0.15\n",
    "    \n",
    "### The probability that at least one bit is incorrectly read in each 4 bit encoded block is 0.15\n",
    "\n",
    "\n",
    "# Low-Density Parity Check Codes\n",
    "\n",
    "For more information on LDPCs check out this article: en.wikipedia.org/wiki/Low-density_parity-check_code\n",
    "\n",
    "Here we will be creating and evaluating a rate 1/2 LDPC code where B = 1000 data bits."
   ]
  },
  {
   "cell_type": "code",
   "execution_count": 2,
   "metadata": {},
   "outputs": [],
   "source": [
    "p = 0.1\n",
    "B = 1000\n",
    "c = [None]*B\n",
    "for i in range(B):\n",
    "    c[i] = np.random.permutation(B)[0:3]\n",
    "    if not (c[i]==i).any: c[i][0] = i\n",
    "        \n",
    "D = np.random.randint(2, size=B)\n",
    "\n",
    "T = np.copy(D)\n",
    "for i in range(B):\n",
    "    T = np.append(T, D[c[i][0]]^D[c[i][1]]^D[c[i][2]])\n",
    "    \n",
    "R = np.copy(T)\n",
    "for i in range(len(T)): R[i] = T[i] if np.random.rand() > p else 1-T[i]"
   ]
  },
  {
   "cell_type": "markdown",
   "metadata": {},
   "source": [
    "If we had done no encoding at all, we could check how many data bits are incorrect, and also how many sequential blocks of four bits are incorrect."
   ]
  },
  {
   "cell_type": "code",
   "execution_count": 3,
   "metadata": {},
   "outputs": [
    {
     "name": "stdout",
     "output_type": "stream",
     "text": [
      "p ~ 0.093\n",
      "p(errors >= 1) ~ 0.332\n"
     ]
    }
   ],
   "source": [
    "print('p ~ {}'.format(sum([R[i]!=D[i] for i in range(B)]) /float(B)))\n",
    "\n",
    "err = 0\n",
    "for i in range(0,B,4):\n",
    "    for j in range(4):\n",
    "        if (R[i+j]!=D[i+j]):\n",
    "            err += 1\n",
    "            break\n",
    "            \n",
    "print('p(errors >= 1) ~ {}'.format(err/float(B/4)))"
   ]
  },
  {
   "cell_type": "code",
   "execution_count": 4,
   "metadata": {},
   "outputs": [],
   "source": [
    "X = [gm.Var(i,2) for i in range(len(T))]\n",
    "\n",
    "parity_check = np.zeros((2, 2, 2, 2))\n",
    "parity_check += 1e-300\n",
    "parity_check[0, 0, 0, 0] = 1.0\n",
    "parity_check[0, 0, 1, 1] = 1.0\n",
    "parity_check[0, 1, 0, 1] = 1.0\n",
    "parity_check[1, 0, 0, 1] = 1.0\n",
    "parity_check[0, 1, 1, 0] = 1.0\n",
    "parity_check[1, 0, 1, 0] = 1.0\n",
    "parity_check[1, 1, 0, 0] = 1.0\n",
    "parity_check[1, 1, 1, 1] = 1.0\n",
    "\n",
    "checks = []\n",
    "for i,_c in enumerate(c):\n",
    "    checks.append( gm.Factor([X[_c[0]], X[_c[1]], X[_c[2]], X[B+i]], parity_check))\n",
    "    \n",
    "measurements = []\n",
    "for i in range(len(T)):\n",
    "    q = p if R[i]==0 else 1.0-p\n",
    "    measurements.append(gm.Factor([X[i]], [1-q,q]))\n",
    "    \n",
    "factors = checks+measurements\n",
    "fg = gm.GraphModel(factors)"
   ]
  },
  {
   "cell_type": "markdown",
   "metadata": {},
   "source": [
    "We have now created a graphical model representing the data and parity bits. We will run loopy belief propagation on our model in order to decode it."
   ]
  },
  {
   "cell_type": "code",
   "execution_count": 5,
   "metadata": {},
   "outputs": [
    {
     "name": "stdout",
     "output_type": "stream",
     "text": [
      "Iter 1: 779.1096481139598\n",
      "Iter 2: -88.35795164355919\n",
      "Iter 3: -337.9566443822736\n",
      "Iter 4: -437.5519730373305\n",
      "Iter 5: -508.0751703733452\n",
      "Iter 6: -523.9818818816718\n",
      "Iter 7: -534.4343060319425\n",
      "Iter 8: -540.9572430247435\n",
      "Iter 9: -543.0047750368849\n",
      "Iter 10: -542.8153383606332\n",
      "Iter 11: -543.2678617627577\n",
      "Iter 12: -543.3037154377283\n",
      "Iter 13: -543.2518971903373\n",
      "Iter 14: -543.195137513773\n",
      "Iter 15: -543.2063520130553\n"
     ]
    }
   ],
   "source": [
    "lnZ, beliefs = gm.messagepass.LBP(fg, maxIter=15, verbose=True)"
   ]
  },
  {
   "cell_type": "markdown",
   "metadata": {},
   "source": [
    "Finally, we can compute both the \"bit error rate\" and the \"word error rate\" for blocks of length 4. "
   ]
  },
  {
   "cell_type": "code",
   "execution_count": 6,
   "metadata": {},
   "outputs": [
    {
     "name": "stdout",
     "output_type": "stream",
     "text": [
      "Bit error rate: 0.042\n",
      "Word error rate: 0.164\n"
     ]
    }
   ],
   "source": [
    "bit_errs = 0\n",
    "for t, b in zip(T, beliefs):\n",
    "    if not t == b.argmax():\n",
    "        bit_errs += 1\n",
    "        \n",
    "word_errs = 0\n",
    "for i in range(0,B,4):\n",
    "    for j in range(4):\n",
    "        if (beliefs[i+j].table.argmax()!=D[i+j]):\n",
    "            word_errs += 1\n",
    "            break\n",
    "        \n",
    "print('Bit error rate: {}'.format(bit_errs/len(T)))\n",
    "print('Word error rate: {}'.format(word_errs/float(B/4)))"
   ]
  },
  {
   "cell_type": "code",
   "execution_count": null,
   "metadata": {},
   "outputs": [],
   "source": []
  }
 ],
 "metadata": {
  "kernelspec": {
   "display_name": "Python 3",
   "language": "python",
   "name": "python3"
  },
  "language_info": {
   "codemirror_mode": {
    "name": "ipython",
    "version": 3
   },
   "file_extension": ".py",
   "mimetype": "text/x-python",
   "name": "python",
   "nbconvert_exporter": "python",
   "pygments_lexer": "ipython3",
   "version": "3.7.3"
  }
 },
 "nbformat": 4,
 "nbformat_minor": 2
}
