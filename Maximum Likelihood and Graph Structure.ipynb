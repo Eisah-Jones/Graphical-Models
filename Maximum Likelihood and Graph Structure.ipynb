{
 "cells": [
  {
   "cell_type": "code",
   "execution_count": 1,
   "metadata": {},
   "outputs": [],
   "source": [
    "import numpy as np\n",
    "import pyGM as gm\n",
    "import networkx as nx\n",
    "import matplotlib.pyplot as plt"
   ]
  },
  {
   "cell_type": "markdown",
   "metadata": {},
   "source": [
    "# Maximum Likelihood\n",
    "\n",
    "Load the data into python corresponding to the following Bayesian network:\n",
    "![](bg.png)"
   ]
  },
  {
   "cell_type": "code",
   "execution_count": 2,
   "metadata": {},
   "outputs": [],
   "source": [
    "d = np.genfromtxt('RiskFactorData.csv', delimiter=',', names=True)\n",
    "data_int = np.array([list(xj) for xj in d], dtype=int)-1\n",
    "nTrain = int(0.75*len(data_int))\n",
    "training = data_int[:nTrain]\n",
    "validation = data_int[nTrain:]"
   ]
  },
  {
   "cell_type": "markdown",
   "metadata": {},
   "source": [
    "Now we want to estimate the probabilities required for the following Bayesian network, using maximumlikelihood on the training data."
   ]
  },
  {
   "cell_type": "code",
   "execution_count": 3,
   "metadata": {},
   "outputs": [],
   "source": [
    "var_name = {0: 'Income', 1: 'Smoke', 2: 'Cholesterol', 3: 'BMI',\n",
    "            4: 'Exercise', 5: 'Attack', 6: 'BP', 7: 'Angina',\n",
    "            8: 'Stroke', 9: 'Diabetes'}\n",
    "\n",
    "Income, Smoke, Cholesterol, BMI, Exercise, Attack, BP, Angina, Stroke, Diabetes = tuple(gm.Var(i, v) for i, v in enumerate([8, 2, 2, 4, 2, 2, 4, 2, 2, 4]))\n",
    "X = [Income, Smoke, Cholesterol, BMI, Exercise, Attack, BP, Angina, Stroke, Diabetes]\n",
    "\n",
    "factor_map = {0: [0], 1: [0, 1], 2: [0, 1, 2, 4], 3: [0, 3, 4],\n",
    "              4: [0, 4], 5: [2, 3, 5, 6], 6: [0, 1, 4, 6],\n",
    "              7: [2, 3, 6, 7], 8: [2, 3, 6, 8], 9: [3, 9]}\n",
    "\n",
    "\n",
    "def get_column(d, idx):\n",
    "    result = []\n",
    "    for row in d:\n",
    "        result.append(row[idx])\n",
    "    return result \n",
    "\n",
    "\n",
    "def print_tables(pml):\n",
    "      # p(Income) Table\n",
    "    tableLine = '-----------------'\n",
    "    print('{0}\\n| I | p(Income) |\\n{0}'.format(tableLine))\n",
    "    for i, v in enumerate(pml[0].table):\n",
    "        print('| {} |    {:<4}   |'.format(i, round(v, 2)))\n",
    "    print(tableLine, '\\n')\n",
    "\n",
    "    # p(Exercise|Income) Table\n",
    "    tableLine = '-----------------------------'\n",
    "    print('      -----------------------\\n      | p(Exercise|Income)  |')\n",
    "    print(tableLine + '\\n| I/E |     0    |     1    |\\n' + tableLine)\n",
    "    for i, v in enumerate(pml[1].table):\n",
    "        print('|  {}  |   {:<4}   |   {:<4}   |'.format(i, round(v[0], 2), round(v[1], 2)))\n",
    "    print(tableLine, '\\n')  \n",
    "    \n",
    "    \n",
    "def populate(data, p, i):\n",
    "    for d in data:\n",
    "        if i == 0:\n",
    "            p.t[int(d[0])]+=1\n",
    "        elif i == 1:\n",
    "            p.t[d[Income]][d[Smoke]]+=1\n",
    "        elif i == 2:\n",
    "            p.t[d[Income]][d[Smoke]][d[Cholesterol]][d[Exercise]]+=1\n",
    "        elif i == 3:\n",
    "            p.t[d[Income]][d[BMI]][d[Exercise]]+=1\n",
    "        elif i == 4:\n",
    "            p.t[d[Income]][d[Exercise]]+=1\n",
    "        elif i == 5:\n",
    "            p.t[d[Cholesterol]][d[BMI]][d[Attack]][d[BP]]+=1\n",
    "        elif i == 6:\n",
    "            p.t[d[Income]][d[Smoke]][d[Exercise]][d[BP]]+=1\n",
    "        elif i == 7:\n",
    "            p.t[d[Cholesterol]][d[BMI]][d[BP]][d[Angina]]+=1\n",
    "        elif i == 8:\n",
    "            p.t[d[Cholesterol]][d[BMI]][d[BP]][d[Stroke]]+=1\n",
    "        elif i == 9:\n",
    "            p.t[d[BMI]][d[Diabetes]]+=1\n",
    "    if i == 0:\n",
    "        p/=p.sum()\n",
    "    else:\n",
    "        p/=p.sum([X[i]])\n",
    "    return p "
   ]
  },
  {
   "cell_type": "code",
   "execution_count": 4,
   "metadata": {},
   "outputs": [
    {
     "name": "stdout",
     "output_type": "stream",
     "text": [
      "-----------------\n",
      "| I | p(Income) |\n",
      "-----------------\n",
      "| 0 |    0.05   |\n",
      "| 1 |    0.06   |\n",
      "| 2 |    0.07   |\n",
      "| 3 |    0.09   |\n",
      "| 4 |    0.12   |\n",
      "| 5 |    0.15   |\n",
      "| 6 |    0.16   |\n",
      "| 7 |    0.3    |\n",
      "----------------- \n",
      "\n",
      "      -----------------------\n",
      "      | p(Exercise|Income)  |\n",
      "-----------------------------\n",
      "| I/E |     0    |     1    |\n",
      "-----------------------------\n",
      "|  0  |   0.62   |   0.38   |\n",
      "|  1  |   0.61   |   0.39   |\n",
      "|  2  |   0.63   |   0.37   |\n",
      "|  3  |   0.66   |   0.34   |\n",
      "|  4  |   0.7    |   0.3    |\n",
      "|  5  |   0.75   |   0.25   |\n",
      "|  6  |   0.79   |   0.21   |\n",
      "|  7  |   0.85   |   0.15   |\n",
      "----------------------------- \n",
      "\n"
     ]
    }
   ],
   "source": [
    "def maxLikelihoodModel(data, display_data = False, prior = False):        \n",
    "    factors = []\n",
    "    tables = []\n",
    "    for i in range(10):\n",
    "        if prior:\n",
    "            Pml = gm.Factor([X[f] for f in factor_map[i]], 1.0)\n",
    "        else:\n",
    "            Pml = gm.Factor([X[f] for f in factor_map[i]], 0.0)\n",
    "        Pml = populate(data, Pml, i)\n",
    "        factors.append(Pml)\n",
    "        if i in [0, 4]:\n",
    "            tables.append(Pml)\n",
    "    return (gm.GraphModel(factors), tables)\n",
    "    \n",
    "    \n",
    "model, tables = maxLikelihoodModel(training, True)\n",
    "print_tables(tables)"
   ]
  },
  {
   "cell_type": "markdown",
   "metadata": {},
   "source": [
    "Now we want to find the average log-likelihood on the training data using the model we have created."
   ]
  },
  {
   "cell_type": "code",
   "execution_count": 5,
   "metadata": {},
   "outputs": [
    {
     "name": "stdout",
     "output_type": "stream",
     "text": [
      "LL_Training: -6.806920101456448\n"
     ]
    }
   ],
   "source": [
    "def calc_log_likelihood(m, data):\n",
    "    LL_Dependent = np.mean([m.logValue(xj) for xj in data])\n",
    "    return LL_Dependent\n",
    "\n",
    "print('LL_Training:', calc_log_likelihood(model, training))"
   ]
  },
  {
   "cell_type": "markdown",
   "metadata": {},
   "source": [
    "Now lets do the same for the validation data!"
   ]
  },
  {
   "cell_type": "code",
   "execution_count": 6,
   "metadata": {},
   "outputs": [
    {
     "name": "stderr",
     "output_type": "stream",
     "text": [
      "/Users/Eisah/Desktop/Notebooking/pyGM/graphmodel.py:178: RuntimeWarning: divide by zero encountered in log\n",
      "  else:          return sum( [ np.log(f.valueMap(x)) for f in factors ] )\n"
     ]
    },
    {
     "name": "stdout",
     "output_type": "stream",
     "text": [
      "LL_Validation: -inf\n"
     ]
    }
   ],
   "source": [
    "print('LL_Validation:', calc_log_likelihood(model, validation))"
   ]
  },
  {
   "cell_type": "markdown",
   "metadata": {},
   "source": [
    "You can see that we get a value of -inf. This is because there may be some examples in the validation data that were not observed in the training data. To handle this situation, we can include a Dirchlet prior using a value of 1."
   ]
  },
  {
   "cell_type": "code",
   "execution_count": 7,
   "metadata": {},
   "outputs": [
    {
     "name": "stdout",
     "output_type": "stream",
     "text": [
      "LL_Training  : -6.806954057154673\n",
      "LL_Validation: -6.852285489262171\n"
     ]
    }
   ],
   "source": [
    "model_ = maxLikelihoodModel(training, False, prior = True)[0]\n",
    "print('LL_Training  :', calc_log_likelihood(model_, training))\n",
    "print('LL_Validation:', calc_log_likelihood(model_, validation))"
   ]
  },
  {
   "cell_type": "markdown",
   "metadata": {},
   "source": [
    "Now we can see that we are recieving roughly the same value on both the training and validation data.\n",
    "\n",
    "# Learning Graph Structure\n",
    "\n",
    "Let's wstimate the single-variable and pairwise marginal probability distributions p(Xi), p(Xi, Xj) for each pair of variables in the model."
   ]
  },
  {
   "cell_type": "code",
   "execution_count": 8,
   "metadata": {},
   "outputs": [
    {
     "name": "stdout",
     "output_type": "stream",
     "text": [
      "[[0.     0.0084 0.0052 0.0067 0.0194 0.0098 0.0198 0.0071 0.0095 0.0154]\n",
      " [0.     0.     0.004  0.0004 0.0031 0.0055 0.0035 0.0042 0.0016 0.0013]\n",
      " [0.     0.     0.     0.0097 0.003  0.0101 0.0428 0.0145 0.004  0.0196]\n",
      " [0.     0.     0.     0.     0.0091 0.0011 0.0281 0.0016 0.0004 0.0258]\n",
      " [0.     0.     0.     0.     0.     0.0029 0.0074 0.0024 0.0025 0.006 ]\n",
      " [0.     0.     0.     0.     0.     0.     0.0137 0.0569 0.0115 0.0096]\n",
      " [0.     0.     0.     0.     0.     0.     0.     0.0177 0.0091 0.0386]\n",
      " [0.     0.     0.     0.     0.     0.     0.     0.     0.0087 0.01  ]\n",
      " [0.     0.     0.     0.     0.     0.     0.     0.     0.     0.0046]\n",
      " [0.     0.     0.     0.     0.     0.     0.     0.     0.     0.    ]]\n"
     ]
    }
   ],
   "source": [
    "def chowLiuModel(data, prior = False):\n",
    "    factors = []\n",
    "    for var in X:\n",
    "        col_values = get_column(data, var.label)\n",
    "        occurences = [0]*var.states\n",
    "        for i in range(var.states):\n",
    "            occurences[i] = col_values.count(i)\n",
    "        probs = [ float(v)/sum(occurences) for v in occurences]\n",
    "        factors.append( gm.Factor([var], probs) )\n",
    "    \n",
    "    m = gm.GraphModel(factors)\n",
    "    \n",
    "    phat = {}\n",
    "    for v in m.X:\n",
    "        phat[v] = gm.Factor([v], 1e-15)\n",
    "        for d in data: \n",
    "            phat[v][d[v]] += 1.0\n",
    "        phat[v] /= len(data)\n",
    "        \n",
    "    for v in m.X:\n",
    "        for w in m.X:\n",
    "            if w<=v: continue\n",
    "            phat[v, w] = gm.Factor([v, w], 1e-15)\n",
    "            for d in data: \n",
    "                phat[v, w][d[v],d[w]] += 1.0\n",
    "            phat[v, w] /= len(data)\n",
    "            \n",
    "    weights = np.zeros((10, 10))\n",
    "    for v in X:\n",
    "        for w in X:\n",
    "            if w<=v: continue\n",
    "            weights[v, w] = ( phat[v, w] * (phat[v,w]/phat[v]/phat[w]).log()).sum()\n",
    "            \n",
    "    return (m, weights, phat)\n",
    "\n",
    "\n",
    "model2, treeWeights, phat = chowLiuModel(training)\n",
    "print(np.round(treeWeights, 4))"
   ]
  },
  {
   "cell_type": "markdown",
   "metadata": {},
   "source": [
    "The table above displays the empirical mutual information between each pair of variables in the network."
   ]
  },
  {
   "cell_type": "markdown",
   "metadata": {},
   "source": [
    "Now we want to estimate the maximum likelihood tree model structure."
   ]
  },
  {
   "cell_type": "code",
   "execution_count": 9,
   "metadata": {},
   "outputs": [
    {
     "name": "stdout",
     "output_type": "stream",
     "text": [
      "\n"
     ]
    },
    {
     "name": "stderr",
     "output_type": "stream",
     "text": [
      "/anaconda3/lib/python3.7/site-packages/networkx/drawing/nx_pylab.py:611: MatplotlibDeprecationWarning: isinstance(..., numbers.Number)\n",
      "  if cb.is_numlike(alpha):\n"
     ]
    },
    {
     "data": {
      "image/png": "[encoded data removed]",
      "text/plain": [
       "<Figure size 432x288 with 1 Axes>"
      ]
     },
     "metadata": {},
     "output_type": "display_data"
    }
   ],
   "source": [
    "G = nx.Graph()\n",
    "pos = {0: (1, 1), 1: (2, 0), 2: (2, -1), 3: (-1, -1),\n",
    "       4: (0, 0), 5: (1, -2), 6: (1, -1),\n",
    "       7: (2, -2), 8: (0, -2), 9: (-1, -2)}\n",
    "for v in X: G.add_node(int(v))\n",
    "for i in range(10):\n",
    "    for j in range(i+1, 10):\n",
    "        G.add_edge(i, j, weight = treeWeights[i, j])\n",
    "        \n",
    "T = nx.maximum_spanning_tree(G)\n",
    "labels = {}\n",
    "p = []\n",
    "for x in sorted(T.edges(data=True)):\n",
    "    labels[(x[0], x[1])] = np.round(x[2]['weight'], 4)\n",
    "    p.append((x[0], x[1]))\n",
    "nx.draw(T, pos, with_labels = True)\n",
    "nx.draw_networkx_edge_labels(T, pos, edge_labels=labels)\n",
    "print()"
   ]
  },
  {
   "cell_type": "markdown",
   "metadata": {},
   "source": [
    "Now that we have generated a graph representing the relationship between variables in the dataset, we can compute the average log-likelihood on the training and validation data."
   ]
  },
  {
   "cell_type": "code",
   "execution_count": 10,
   "metadata": {},
   "outputs": [
    {
     "name": "stdout",
     "output_type": "stream",
     "text": [
      "LL_Training: -6.722457217345808\n",
      "LL_Valiidation: -6.765482079662603\n"
     ]
    }
   ],
   "source": [
    "estimates = [phat[i] for i in range(10)] + \\\n",
    "            [phat[i, j]/phat[i]/phat[j] for i, j in p]\n",
    "est_model = gm.GraphModel(estimates)\n",
    "print('LL_Training:', np.mean( [ est_model.logValue(x) for x in training ] ))\n",
    "print('LL_Valiidation:', np.mean( [ est_model.logValue(x) for x in validation ] ))"
   ]
  },
  {
   "cell_type": "markdown",
   "metadata": {},
   "source": [
    "We can see that both of these values are slightly lower than the values calculated in the first section.\n",
    "\n",
    "However, our model from the first part and our new tree-structured model have very different complexities. We want to penalize the model for it's complexity. To do this we change the training likelihoods by including a BIC penalty."
   ]
  },
  {
   "cell_type": "code",
   "execution_count": 11,
   "metadata": {},
   "outputs": [
    {
     "name": "stdout",
     "output_type": "stream",
     "text": [
      "BIC_1: -6.807165485139877\n",
      "BIC_2: -6.722702601029237\n"
     ]
    }
   ],
   "source": [
    "def calc_BIC(m, data):\n",
    "    BIC = np.mean([m.logValue(xj) for xj in data])\n",
    "    BIC -= (len(X)/2.0)*np.log(len(data))/len(data)\n",
    "    return BIC\n",
    "\n",
    "print('BIC_1:', calc_BIC(model, training))\n",
    "print('BIC_2:', calc_BIC(est_model, training))"
   ]
  },
  {
   "cell_type": "markdown",
   "metadata": {},
   "source": [
    "Based on the BIC score, the Chow Liu model seems to be preffered under this measure of quality."
   ]
  }
 ],
 "metadata": {
  "kernelspec": {
   "display_name": "Python 3",
   "language": "python",
   "name": "python3"
  },
  "language_info": {
   "codemirror_mode": {
    "name": "ipython",
    "version": 3
   },
   "file_extension": ".py",
   "mimetype": "text/x-python",
   "name": "python",
   "nbconvert_exporter": "python",
   "pygments_lexer": "ipython3",
   "version": "3.7.3"
  }
 },
 "nbformat": 4,
 "nbformat_minor": 2
}
